{
 "cells": [
  {
   "cell_type": "markdown",
   "id": "284141a7-ad36-4df9-934a-23f4352ac157",
   "metadata": {},
   "source": [
    "#QNO.1 ANS"
   ]
  },
  {
   "cell_type": "code",
   "execution_count": 31,
   "id": "bce8b4d1-1fc8-4fb7-a16d-bd1a6796e4cf",
   "metadata": {},
   "outputs": [],
   "source": [
    "l = range(1,25)"
   ]
  },
  {
   "cell_type": "code",
   "execution_count": 32,
   "id": "1a489016-0b4b-4ac3-af76-ac4986eb5241",
   "metadata": {},
   "outputs": [],
   "source": [
    "def test(l):\n",
    "    l1 =[]\n",
    "    for i in l:\n",
    "        if i%2 != 0:\n",
    "            l1.append(i)\n",
    "    return l1            "
   ]
  },
  {
   "cell_type": "code",
   "execution_count": 33,
   "id": "f805de98-8e2a-441a-b623-1779cebefd07",
   "metadata": {},
   "outputs": [
    {
     "data": {
      "text/plain": [
       "[1, 3, 5, 7, 9, 11, 13, 15, 17, 19, 21, 23]"
      ]
     },
     "execution_count": 33,
     "metadata": {},
     "output_type": "execute_result"
    }
   ],
   "source": [
    "test(l)"
   ]
  },
  {
   "cell_type": "markdown",
   "id": "47dda71a-7dbf-4570-ab81-9e6202d4849d",
   "metadata": {},
   "source": [
    "#QNO.2 ANS"
   ]
  },
  {
   "cell_type": "markdown",
   "id": "daadd7b7-b60d-4f25-accc-c12194269d61",
   "metadata": {},
   "source": [
    "#*ARGS :\n",
    "we use *args and *kwargs as an argument when we are unfamiliar about\n",
    "the number of arguments to pass in the functions.\n",
    "Here's an example of a function that accepts any number of positional arguments and prints their sum:"
   ]
  },
  {
   "cell_type": "code",
   "execution_count": 11,
   "id": "549d8f0d-d12b-4971-8c81-8791cb586e17",
   "metadata": {},
   "outputs": [
    {
     "name": "stdout",
     "output_type": "stream",
     "text": [
      "10\n"
     ]
    }
   ],
   "source": [
    "def sum(*args):\n",
    "    total = 0\n",
    "    for arg in args :\n",
    "        total += arg\n",
    "    return total\n",
    "\n",
    "print(sum(1,2,3,4))"
   ]
  },
  {
   "cell_type": "markdown",
   "id": "7df40a96-7dc8-4681-bab4-d9f50882b87d",
   "metadata": {},
   "source": [
    "in this example, the function sum() accepts any number of positional arguments using the *args syntax. The function then iterates over the arguments and returns their sum."
   ]
  },
  {
   "cell_type": "markdown",
   "id": "71943728-25b4-45c6-a880-761145104d91",
   "metadata": {},
   "source": [
    "#**KWARGS:\n",
    "The **kwargs syntax allows a function to accept any number of keyword arguments. The arguments are passed to the function as a dictionary."
   ]
  },
  {
   "cell_type": "code",
   "execution_count": 17,
   "id": "0bcc166f-c829-47bf-8c5e-6bf40bfd0867",
   "metadata": {},
   "outputs": [
    {
     "name": "stdout",
     "output_type": "stream",
     "text": [
      "name: Rishu\n",
      "age: 18\n",
      "city: Hilsa\n"
     ]
    }
   ],
   "source": [
    "def print_kwargs(**kwargs):\n",
    "    for key, value in kwargs.items():\n",
    "        print(f\"{key}: {value}\")\n",
    "\n",
    "print_kwargs(name=\"Rishu\", age=18, city=\"Hilsa\")"
   ]
  },
  {
   "cell_type": "markdown",
   "id": "6458b548-b772-45a8-ad4f-e527986cddcb",
   "metadata": {},
   "source": [
    "In this example, the function print_kwargs() accepts any number of keyword arguments using the **kwargs syntax. The function then iterates over the arguments and prints their key-value pairs.\n",
    "\n",
    "Using *args and **kwargs can make your code more flexible and allow your functions to accept a varying number of arguments.\n",
    "\n",
    "\n"
   ]
  },
  {
   "cell_type": "markdown",
   "id": "0ee92fb6-97e2-4c9c-a2a7-0790311022c0",
   "metadata": {},
   "source": [
    "#QNO.3 ANS"
   ]
  },
  {
   "cell_type": "markdown",
   "id": "5c1b50fa-7243-4fa6-baa7-9b5454344f94",
   "metadata": {},
   "source": [
    "An iterator in Python is an object that allows you to traverse through the elements of a collection (such as a list) one at a time.\n",
    "\n",
    "To create an iterator object in Python, you can use the built-in iter() function. The iter() function takes an iterable object as its argument and returns an iterator object.\n",
    "\n",
    "To iterate over the elements of an iterator object, you can use the built-in next() function. The next() function returns the next element in the iterator.\n",
    "\n",
    "Here's an example of how to use these methods to print the first five elements of the given list [2, 4, 6, 8, 10, 12, 14, 16, 18, 20]:"
   ]
  },
  {
   "cell_type": "code",
   "execution_count": 20,
   "id": "78372742-58ea-4880-8696-c11bc5937cea",
   "metadata": {},
   "outputs": [
    {
     "name": "stdout",
     "output_type": "stream",
     "text": [
      "2\n",
      "4\n",
      "6\n",
      "8\n",
      "10\n"
     ]
    }
   ],
   "source": [
    "my_list = [2,4,6,8,10,12,14,16,18,20]\n",
    "my_iterator = iter(my_list)\n",
    "\n",
    "for i in range(5):\n",
    "    print(next(my_iterator))"
   ]
  },
  {
   "cell_type": "markdown",
   "id": "da265841-ef83-48a6-b4ef-9457192fa37b",
   "metadata": {},
   "source": [
    "#QNO.4 ANS"
   ]
  },
  {
   "cell_type": "markdown",
   "id": "5639952b-3c6c-40d5-8185-c347eaf608a4",
   "metadata": {},
   "source": [
    "A generator function in Python is a type of function that returns an iterator object, which allows you to generate a sequence of values on-the-fly, rather than generating them all at once and storing them in memory.\n",
    "\n",
    "The yield keyword is used in a generator function to indicate where the generator should pause its execution and yield the next value in the sequence. When the generator is called again, it resumes its execution from the point where it last yielded and continues generating values until there are no more values to generate.\n",
    "\n",
    "Example of generator function are"
   ]
  },
  {
   "cell_type": "code",
   "execution_count": 28,
   "id": "5eb508b0-5ef2-4692-9fc3-b7f51957f296",
   "metadata": {},
   "outputs": [],
   "source": [
    "def test_fib(n):\n",
    "    a,b = 0,1\n",
    "    for i in range(n):\n",
    "        yield a\n",
    "        a,b= b, a+b"
   ]
  },
  {
   "cell_type": "code",
   "execution_count": 30,
   "id": "fba927e0-da11-4982-afc6-ec7e40394d0a",
   "metadata": {},
   "outputs": [
    {
     "name": "stdout",
     "output_type": "stream",
     "text": [
      "0\n",
      "1\n",
      "1\n",
      "2\n",
      "3\n",
      "5\n",
      "8\n",
      "13\n",
      "21\n",
      "34\n"
     ]
    }
   ],
   "source": [
    "for i in test_fib(10):\n",
    "    print(i)"
   ]
  },
  {
   "cell_type": "markdown",
   "id": "4334873b-fd60-4a68-9990-ae97b226e569",
   "metadata": {},
   "source": [
    "#QNO.5 ANS"
   ]
  },
  {
   "cell_type": "code",
   "execution_count": 1,
   "id": "60d78e83-6fc2-4610-9df1-708f8fc8be9b",
   "metadata": {},
   "outputs": [
    {
     "name": "stdout",
     "output_type": "stream",
     "text": [
      "2\n",
      "3\n",
      "5\n",
      "7\n",
      "11\n",
      "13\n",
      "17\n",
      "19\n",
      "23\n",
      "29\n",
      "31\n",
      "37\n",
      "41\n",
      "43\n",
      "47\n",
      "53\n",
      "59\n",
      "61\n",
      "67\n",
      "71\n"
     ]
    }
   ],
   "source": [
    "def prime_numbers():\n",
    "    for num in range(2, 1000):\n",
    "        for i in range(2, num):\n",
    "            if (num % i) == 0:\n",
    "                break\n",
    "        else:\n",
    "            yield num\n",
    "\n",
    "# Use the generator function to get the first 20 prime numbers\n",
    "primes = prime_numbers()\n",
    "for i in range(20):\n",
    "    print(next(primes))\n",
    "\n"
   ]
  },
  {
   "cell_type": "markdown",
   "id": "72b3f2a5-bdb5-45a0-b796-cee291a099f8",
   "metadata": {},
   "source": [
    "#QNO.6 ANS"
   ]
  },
  {
   "cell_type": "code",
   "execution_count": 7,
   "id": "3f90feb1-daf5-4f29-91eb-b943d2ede588",
   "metadata": {},
   "outputs": [],
   "source": [
    "def test_fib():\n",
    "    a,b = 0,1\n",
    "    while True:\n",
    "        yield a\n",
    "        a,b = b, a+b   "
   ]
  },
  {
   "cell_type": "code",
   "execution_count": 8,
   "id": "16f7abc7-9701-4821-a64c-876d0b921808",
   "metadata": {},
   "outputs": [],
   "source": [
    "fib = test_fib()"
   ]
  },
  {
   "cell_type": "code",
   "execution_count": 9,
   "id": "b6f055ea-596e-4fa0-b75a-19ed8bc21cc9",
   "metadata": {},
   "outputs": [
    {
     "name": "stdout",
     "output_type": "stream",
     "text": [
      "0\n",
      "1\n",
      "1\n",
      "2\n",
      "3\n",
      "5\n",
      "8\n",
      "13\n",
      "21\n",
      "34\n"
     ]
    }
   ],
   "source": [
    "for i in range(10):\n",
    "    print(next(fib))"
   ]
  },
  {
   "cell_type": "markdown",
   "id": "dddd4ab2-b376-430b-b5b6-ad25a62c4f2e",
   "metadata": {},
   "source": [
    "#QNO.7 ANS"
   ]
  },
  {
   "cell_type": "code",
   "execution_count": 2,
   "id": "fa57462e-ba94-4007-a621-ff44952e3dce",
   "metadata": {},
   "outputs": [
    {
     "name": "stdout",
     "output_type": "stream",
     "text": [
      "['p', 'w', 's', 'k', 'i', 'l', 'l', 's']\n"
     ]
    }
   ],
   "source": [
    "my_string = 'pwskills'\n",
    "\n",
    "char_list = [char for char in my_string]\n",
    "\n",
    "print(char_list)"
   ]
  },
  {
   "cell_type": "markdown",
   "id": "0705ba3c-08ec-4ae1-8307-62b0bd3c7a32",
   "metadata": {},
   "source": [
    "#QNO.8 ANS"
   ]
  },
  {
   "cell_type": "code",
   "execution_count": 25,
   "id": "e203e662-c61e-4066-8f29-c900f238f78e",
   "metadata": {},
   "outputs": [
    {
     "name": "stdin",
     "output_type": "stream",
     "text": [
      "Enter a number:  5\n"
     ]
    },
    {
     "name": "stdout",
     "output_type": "stream",
     "text": [
      "5 is a palindrome\n"
     ]
    }
   ],
   "source": [
    "num = int(input(\"Enter a number: \"))\n",
    "temp = num\n",
    "reverse = 0\n",
    "\n",
    "while temp > 0:\n",
    "    digit = temp % 10\n",
    "    reverse = reverse * 10 + digit\n",
    "    temp = temp // 10\n",
    "\n",
    "if num == reverse:\n",
    "    print(num, \"is a palindrome\")\n",
    "else:\n",
    "    print(num, \"is not a palindrome\")"
   ]
  },
  {
   "cell_type": "markdown",
   "id": "03279523-bb37-4c79-88af-ccf6f16b8d58",
   "metadata": {},
   "source": [
    "#QNO.9 ANS"
   ]
  },
  {
   "cell_type": "code",
   "execution_count": 17,
   "id": "bc5272c6-c7d7-4eee-b186-bdcc25822bbf",
   "metadata": {},
   "outputs": [],
   "source": [
    "l = range(1,100)\n",
    "l1 = []\n",
    "for i in l:\n",
    "    if i %2 != 0:\n",
    "        l1.append(i)"
   ]
  },
  {
   "cell_type": "code",
   "execution_count": 18,
   "id": "0cd2cd26-69ba-481b-b060-b36a747cd0b6",
   "metadata": {},
   "outputs": [
    {
     "data": {
      "text/plain": [
       "[1,\n",
       " 3,\n",
       " 5,\n",
       " 7,\n",
       " 9,\n",
       " 11,\n",
       " 13,\n",
       " 15,\n",
       " 17,\n",
       " 19,\n",
       " 21,\n",
       " 23,\n",
       " 25,\n",
       " 27,\n",
       " 29,\n",
       " 31,\n",
       " 33,\n",
       " 35,\n",
       " 37,\n",
       " 39,\n",
       " 41,\n",
       " 43,\n",
       " 45,\n",
       " 47,\n",
       " 49,\n",
       " 51,\n",
       " 53,\n",
       " 55,\n",
       " 57,\n",
       " 59,\n",
       " 61,\n",
       " 63,\n",
       " 65,\n",
       " 67,\n",
       " 69,\n",
       " 71,\n",
       " 73,\n",
       " 75,\n",
       " 77,\n",
       " 79,\n",
       " 81,\n",
       " 83,\n",
       " 85,\n",
       " 87,\n",
       " 89,\n",
       " 91,\n",
       " 93,\n",
       " 95,\n",
       " 97,\n",
       " 99]"
      ]
     },
     "execution_count": 18,
     "metadata": {},
     "output_type": "execute_result"
    }
   ],
   "source": [
    "l1"
   ]
  },
  {
   "cell_type": "code",
   "execution_count": null,
   "id": "b1233cb9-e05b-4f1c-af10-a66ae2e59bfe",
   "metadata": {},
   "outputs": [],
   "source": []
  }
 ],
 "metadata": {
  "kernelspec": {
   "display_name": "Python 3 (ipykernel)",
   "language": "python",
   "name": "python3"
  },
  "language_info": {
   "codemirror_mode": {
    "name": "ipython",
    "version": 3
   },
   "file_extension": ".py",
   "mimetype": "text/x-python",
   "name": "python",
   "nbconvert_exporter": "python",
   "pygments_lexer": "ipython3",
   "version": "3.10.6"
  }
 },
 "nbformat": 4,
 "nbformat_minor": 5
}
